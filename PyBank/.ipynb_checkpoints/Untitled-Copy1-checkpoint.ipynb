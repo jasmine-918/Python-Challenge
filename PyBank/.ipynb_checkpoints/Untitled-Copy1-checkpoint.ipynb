{
 "cells": [
  {
   "cell_type": "code",
   "execution_count": 1,
   "id": "cc71f138",
   "metadata": {},
   "outputs": [],
   "source": [
    "import csv\n",
    "import pandas as pd"
   ]
  },
  {
   "cell_type": "code",
   "execution_count": 2,
   "id": "0b4972f0",
   "metadata": {},
   "outputs": [],
   "source": [
    "file_path = (r\"C:\\Users\\jasmi\\Downloads\\Starter_Code\\Starter_Code\\PyBank\\Resources\\budget_data.csv\")"
   ]
  },
  {
   "cell_type": "code",
   "execution_count": 4,
   "id": "a7894f03",
   "metadata": {},
   "outputs": [],
   "source": [
    "df = pd.read_csv(r\"C:\\Users\\jasmi\\Downloads\\Starter_Code\\Starter_Code\\PyBank\\Resources\\budget_data.csv\")"
   ]
  },
  {
   "cell_type": "code",
   "execution_count": 5,
   "id": "4ae4030c",
   "metadata": {},
   "outputs": [
    {
     "name": "stdout",
     "output_type": "stream",
     "text": [
      "Greatest decrease in profits:\n",
      "Date: Feb-14, Amount: -1825558.0\n",
      "Date: Aug-16, Amount: 1862002.0\n",
      "Changes in Profit/Losses over the entire period:\n",
      "\n",
      "Average of the changes in Profit/Losses: -8311.105882352942\n",
      "Net total amount of Profit/Losses over the entire period: 22564198\n",
      "Total number of months in the dataset: 86\n"
     ]
    }
   ],
   "source": [
    "total_months = df.shape[0]\n",
    "net_total = df['Profit/Losses'].sum()\n",
    "df['Profit/Losses Change'] = df['Profit/Losses'].diff()\n",
    "average_changes = df['Profit/Losses Change'].mean()\n",
    "\n",
    "index_max_increase = df['Profit/Losses Change'].idxmax()\n",
    "\n",
    "index_max_decrease = df['Profit/Losses Change'].idxmin()\n",
    "\n",
    "# Get the date and amount of the greatest decrease in profits\n",
    "date_max_decrease = df.loc[index_max_decrease, 'Date']\n",
    "amount_max_decrease = df.loc[index_max_decrease, 'Profit/Losses Change']\n",
    "\n",
    "\n",
    "\n",
    "date_max_increase = df.loc[index_max_increase, 'Date']\n",
    "amount_max_increase = df.loc[index_max_increase, 'Profit/Losses Change']\n",
    "\n",
    "\n",
    "print(\"Greatest decrease in profits:\")\n",
    "print(f\"Date: {date_max_decrease}, Amount: {amount_max_decrease}\")\n",
    "\n",
    "print(f\"Date: {date_max_increase}, Amount: {amount_max_increase}\")\n",
    "print(\"Changes in Profit/Losses over the entire period:\")\n",
    "print(\"\\nAverage of the changes in Profit/Losses:\", average_changes)\n",
    "print(\"Net total amount of Profit/Losses over the entire period:\", net_total)\n",
    "print(\"Total number of months in the dataset:\", total_months)\n"
   ]
  },
  {
   "cell_type": "code",
   "execution_count": null,
   "id": "ee85e061",
   "metadata": {},
   "outputs": [],
   "source": []
  }
 ],
 "metadata": {
  "kernelspec": {
   "display_name": "Python 3 (ipykernel)",
   "language": "python",
   "name": "python3"
  },
  "language_info": {
   "codemirror_mode": {
    "name": "ipython",
    "version": 3
   },
   "file_extension": ".py",
   "mimetype": "text/x-python",
   "name": "python",
   "nbconvert_exporter": "python",
   "pygments_lexer": "ipython3",
   "version": "3.10.9"
  }
 },
 "nbformat": 4,
 "nbformat_minor": 5
}
