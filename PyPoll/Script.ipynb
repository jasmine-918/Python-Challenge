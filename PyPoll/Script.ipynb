{
 "cells": [
  {
   "cell_type": "code",
   "execution_count": 1,
   "id": "925bdc13",
   "metadata": {},
   "outputs": [],
   "source": [
    "import csv\n",
    "import pandas as pd"
   ]
  },
  {
   "cell_type": "code",
   "execution_count": 4,
   "id": "92e6d590",
   "metadata": {},
   "outputs": [],
   "source": [
    "\n",
    "file_path = r\"C:\\Users\\jasmi\\Downloads\\python-challenge\\PyPoll\\Resources\\election_data.csv\"\n",
    "\n",
    "\n",
    "df = pd.read_csv(r\"C:\\Users\\jasmi\\Downloads\\python-challenge\\PyPoll\\Resources\\election_data.csv\")    "
   ]
  },
  {
   "cell_type": "code",
   "execution_count": 5,
   "id": "dd1a2e48",
   "metadata": {},
   "outputs": [
    {
     "name": "stdout",
     "output_type": "stream",
     "text": [
      "        Ballot ID     County                Candidate\n",
      "0         1323913  Jefferson  Charles Casper Stockham\n",
      "1         1005842  Jefferson  Charles Casper Stockham\n",
      "2         1880345  Jefferson  Charles Casper Stockham\n",
      "3         1600337  Jefferson  Charles Casper Stockham\n",
      "4         1835994  Jefferson  Charles Casper Stockham\n",
      "...           ...        ...                      ...\n",
      "369706    4714953   Arapahoe     Raymon Anthony Doane\n",
      "369707    4497542   Arapahoe     Raymon Anthony Doane\n",
      "369708    4085849   Arapahoe     Raymon Anthony Doane\n",
      "369709    4592018   Arapahoe     Raymon Anthony Doane\n",
      "369710    4660518   Arapahoe     Raymon Anthony Doane\n",
      "\n",
      "[369711 rows x 3 columns]\n"
     ]
    }
   ],
   "source": [
    "print(df)"
   ]
  },
  {
   "cell_type": "code",
   "execution_count": 7,
   "id": "02c033a8",
   "metadata": {},
   "outputs": [
    {
     "name": "stdout",
     "output_type": "stream",
     "text": [
      "Index(['Ballot ID', 'County', 'Candidate'], dtype='object')\n"
     ]
    }
   ],
   "source": [
    "print(df.columns)\n"
   ]
  },
  {
   "cell_type": "code",
   "execution_count": 15,
   "id": "5eb24a01",
   "metadata": {},
   "outputs": [
    {
     "name": "stdout",
     "output_type": "stream",
     "text": [
      "Total number of votes cast: 369711\n",
      "List of candidates who received votes:\n",
      "['Charles Casper Stockham' 'Diana DeGette' 'Raymon Anthony Doane']\n",
      "Candidate\n",
      "Diana DeGette              73.812248\n",
      "Charles Casper Stockham    23.048543\n",
      "Raymon Anthony Doane        3.139209\n",
      "Name: count, dtype: float64\n",
      "Total number of votes each candidate won:\n",
      "Candidate\n",
      "Diana DeGette              272892\n",
      "Charles Casper Stockham     85213\n",
      "Raymon Anthony Doane        11606\n",
      "Name: count, dtype: int64\n"
     ]
    }
   ],
   "source": [
    "total_votes_cast = df.shape[0]\n",
    "\n",
    "print(\"Total number of votes cast:\", total_votes_cast)\n",
    "candidates_list = df['Candidate'].unique()\n",
    "print(\"List of candidates who received votes:\")\n",
    "print(candidates_list)\n",
    "\n",
    "people_vote = df['Candidate'].value_counts()\n",
    "\n",
    "\n",
    "percentage_vote = (people_vote / total_votes_cast) * 100\n",
    "\n",
    "\n",
    "\n",
    "print(percentage_vote)\n",
    "\n",
    "candidate_votes = df['Candidate'].value_counts()\n",
    "\n",
    "# Display the result\n",
    "print(\"Total number of votes each candidate won:\")\n",
    "print(candidate_votes)"
   ]
  },
  {
   "cell_type": "code",
   "execution_count": null,
   "id": "e2f5a9bd",
   "metadata": {},
   "outputs": [],
   "source": []
  }
 ],
 "metadata": {
  "kernelspec": {
   "display_name": "Python 3 (ipykernel)",
   "language": "python",
   "name": "python3"
  },
  "language_info": {
   "codemirror_mode": {
    "name": "ipython",
    "version": 3
   },
   "file_extension": ".py",
   "mimetype": "text/x-python",
   "name": "python",
   "nbconvert_exporter": "python",
   "pygments_lexer": "ipython3",
   "version": "3.10.9"
  }
 },
 "nbformat": 4,
 "nbformat_minor": 5
}
